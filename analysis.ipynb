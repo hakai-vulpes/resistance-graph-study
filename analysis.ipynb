{
 "cells": [
  {
   "cell_type": "code",
   "execution_count": 3,
   "id": "686dd872",
   "metadata": {},
   "outputs": [],
   "source": [
    "import pandas as pd\n",
    "import networkx as nx\n",
    "import os"
   ]
  },
  {
   "cell_type": "code",
   "execution_count": null,
   "id": "d68bd8ae",
   "metadata": {},
   "outputs": [
    {
     "data": {
      "text/plain": [
       "NUMBER_OF_PARTICIPANTS\n",
       "8    0.467742\n",
       "7    0.370968\n",
       "6    0.129032\n",
       "5    0.032258\n",
       "Name: proportion, dtype: float64"
      ]
     },
     "execution_count": 5,
     "metadata": {},
     "output_type": "execute_result"
    }
   ],
   "source": [
    "files = pd.read_csv(os.path.join('comm-f2f-Resistance', 'network_list.csv'))\n",
    "files.NUMBER_OF_PARTICIPANTS.value_counts(normalize=True)\n",
    "# Just to check that the modularity classes does not coincide with the number of \n",
    "# opponents since that provides a lot of information about the game (about the zeros)\n",
    "# It indeed does not coincide, so the modularity classes are meaningful\n",
    "# Gephi shows: 35.03%, 25.72%, 25.72% and 13.53%"
   ]
  },
  {
   "cell_type": "code",
   "execution_count": 7,
   "id": "65617c43",
   "metadata": {},
   "outputs": [],
   "source": [
    "G = nx.read_gml(os.path.join('comm-f2f-Resistance', 'embeddings.gml'))"
   ]
  }
 ],
 "metadata": {
  "kernelspec": {
   "display_name": "Python 3",
   "language": "python",
   "name": "python3"
  },
  "language_info": {
   "codemirror_mode": {
    "name": "ipython",
    "version": 3
   },
   "file_extension": ".py",
   "mimetype": "text/x-python",
   "name": "python",
   "nbconvert_exporter": "python",
   "pygments_lexer": "ipython3",
   "version": "3.12.10"
  }
 },
 "nbformat": 4,
 "nbformat_minor": 5
}
